{
 "cells": [
  {
   "cell_type": "code",
   "execution_count": 224,
   "metadata": {},
   "outputs": [],
   "source": [
    "import time\n",
    "from selenium.webdriver import Chrome\n",
    "from selenium.webdriver.common.by import By\n",
    "from selenium.webdriver.common.keys import Keys\n",
    "from selenium.webdriver.support.ui import WebDriverWait\n",
    "from selenium.webdriver.support import expected_conditions as EC\n",
    "import pandas as pd"
   ]
  },
  {
   "cell_type": "code",
   "execution_count": 225,
   "metadata": {},
   "outputs": [],
   "source": [
    "data=[]\n",
    "# Warning: need to change the location of the path where you saved the chrome driver\n",
    "with Chrome(executable_path=r'C:\\Program Files\\chromedriver.exe') as driver:\n",
    "    wait = WebDriverWait(driver,5)\n",
    "    driver.get(\"https://www.youtube.com/watch?v=8bDz7jzQOkM&ab_channel=FrederiqueOlivierFrederiqueOlivier\")\n",
    "\n",
    "    # Scrolling down to range(times)\n",
    "    for item in range(1): \n",
    "        wait.until(EC.visibility_of_element_located((By.TAG_NAME, \"body\"))).send_keys(Keys.END)\n",
    "        time.sleep(5)\n",
    "\n",
    "    # Scraping each comment\n",
    "    for body in wait.until(EC.presence_of_all_elements_located((By.CSS_SELECTOR, \"#main\"))):\n",
    "        data.append(body.text)\n",
    "\n",
    "# html key for the Id and the comment:\n",
    "# author-text\n",
    "# comment"
   ]
  },
  {
   "cell_type": "code",
   "execution_count": 252,
   "metadata": {},
   "outputs": [],
   "source": [
    "# Converting a list to dataframe\n",
    "df = pd.DataFrame(data, columns=['chunk'])"
   ]
  },
  {
   "cell_type": "code",
   "execution_count": 254,
   "metadata": {},
   "outputs": [],
   "source": [
    "# Adding column names\n",
    "df[['User ID','Time Posted','Comment','NumLikes','NA']] = df.chunk.str.split(\"\\n\",expand=True,)"
   ]
  },
  {
   "cell_type": "code",
   "execution_count": 255,
   "metadata": {},
   "outputs": [],
   "source": [
    "# Replacing values & Dropping columns\n",
    "df['NumLikes'] = df['NumLikes'].replace({'REPLY':'0'})\n",
    "df = df.drop(columns=['chunk', 'NA'])"
   ]
  },
  {
   "cell_type": "code",
   "execution_count": 259,
   "metadata": {},
   "outputs": [
    {
     "data": {
      "text/html": [
       "<div>\n",
       "<style scoped>\n",
       "    .dataframe tbody tr th:only-of-type {\n",
       "        vertical-align: middle;\n",
       "    }\n",
       "\n",
       "    .dataframe tbody tr th {\n",
       "        vertical-align: top;\n",
       "    }\n",
       "\n",
       "    .dataframe thead th {\n",
       "        text-align: right;\n",
       "    }\n",
       "</style>\n",
       "<table border=\"1\" class=\"dataframe\">\n",
       "  <thead>\n",
       "    <tr style=\"text-align: right;\">\n",
       "      <th></th>\n",
       "      <th>User ID</th>\n",
       "      <th>Time Posted</th>\n",
       "      <th>Comment</th>\n",
       "      <th>NumLikes</th>\n",
       "    </tr>\n",
       "  </thead>\n",
       "  <tbody>\n",
       "    <tr>\n",
       "      <th>0</th>\n",
       "      <td>Alexis Maltère</td>\n",
       "      <td>1 year ago</td>\n",
       "      <td>Well that's a lot of cute penguins.</td>\n",
       "      <td>6</td>\n",
       "    </tr>\n",
       "    <tr>\n",
       "      <th>1</th>\n",
       "      <td>mongohotline</td>\n",
       "      <td>1 year ago</td>\n",
       "      <td>This is probably the finest video of Adelie pe...</td>\n",
       "      <td>2</td>\n",
       "    </tr>\n",
       "    <tr>\n",
       "      <th>2</th>\n",
       "      <td>joe Whip</td>\n",
       "      <td>1 year ago</td>\n",
       "      <td>Was there in Dec. 2019. Awesome video. Nice to...</td>\n",
       "      <td>0</td>\n",
       "    </tr>\n",
       "    <tr>\n",
       "      <th>3</th>\n",
       "      <td>Eggles S</td>\n",
       "      <td>8 months ago (edited)</td>\n",
       "      <td>10:12 Looks like a comedy routine from the 1960s</td>\n",
       "      <td>0</td>\n",
       "    </tr>\n",
       "    <tr>\n",
       "      <th>4</th>\n",
       "      <td>김지원</td>\n",
       "      <td>1 month ago</td>\n",
       "      <td>우와....</td>\n",
       "      <td>0</td>\n",
       "    </tr>\n",
       "  </tbody>\n",
       "</table>\n",
       "</div>"
      ],
      "text/plain": [
       "          User ID            Time Posted  \\\n",
       "0  Alexis Maltère             1 year ago   \n",
       "1    mongohotline             1 year ago   \n",
       "2        joe Whip             1 year ago   \n",
       "3        Eggles S  8 months ago (edited)   \n",
       "4             김지원            1 month ago   \n",
       "\n",
       "                                             Comment NumLikes  \n",
       "0                Well that's a lot of cute penguins.        6  \n",
       "1  This is probably the finest video of Adelie pe...        2  \n",
       "2  Was there in Dec. 2019. Awesome video. Nice to...        0  \n",
       "3   10:12 Looks like a comedy routine from the 1960s        0  \n",
       "4                                             우와....        0  "
      ]
     },
     "execution_count": 259,
     "metadata": {},
     "output_type": "execute_result"
    }
   ],
   "source": [
    "df.head()"
   ]
  },
  {
   "cell_type": "code",
   "execution_count": 257,
   "metadata": {},
   "outputs": [],
   "source": [
    "# Saving the data as a csv file\n",
    "df.to_csv('ScrapedYoutubeComment.csv', index=False)"
   ]
  },
  {
   "cell_type": "code",
   "execution_count": null,
   "metadata": {},
   "outputs": [],
   "source": []
  },
  {
   "cell_type": "code",
   "execution_count": 258,
   "metadata": {},
   "outputs": [],
   "source": []
  }
 ],
 "metadata": {
  "kernelspec": {
   "display_name": "Python 3",
   "language": "python",
   "name": "python3"
  },
  "language_info": {
   "codemirror_mode": {
    "name": "ipython",
    "version": 3
   },
   "file_extension": ".py",
   "mimetype": "text/x-python",
   "name": "python",
   "nbconvert_exporter": "python",
   "pygments_lexer": "ipython3",
   "version": "3.7.3"
  }
 },
 "nbformat": 4,
 "nbformat_minor": 2
}
